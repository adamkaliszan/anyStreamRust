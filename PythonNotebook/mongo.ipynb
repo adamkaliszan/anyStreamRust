{
 "cells": [
  {
   "cell_type": "markdown",
   "metadata": {},
   "source": [
    "# Tensor flow and other basic stuff"
   ]
  },
  {
   "cell_type": "code",
   "execution_count": 2,
   "metadata": {},
   "outputs": [
    {
     "name": "stdout",
     "output_type": "stream",
     "text": [
      "Tensor Flow version: 2.12.0\n"
     ]
    }
   ],
   "source": [
    "%config IPCompleter.greedy=True\n",
    "import tensorflow as tf\n",
    "from tensorflow import keras\n",
    "from tensorflow.keras import layers\n",
    "\n",
    "import sklearn\n",
    "from sklearn import preprocessing\n",
    "from tensorflow.keras.layers.experimental import preprocessing\n",
    "\n",
    "\n",
    "print(f\"Tensor Flow version: {tf.__version__}\")"
   ]
  },
  {
   "cell_type": "code",
   "execution_count": 3,
   "metadata": {},
   "outputs": [],
   "source": [
    "import matplotlib.pyplot as plt\n",
    "import numpy as np\n",
    "import pandas as pd\n",
    "from pymongo import MongoClient\n",
    "\n",
    "np.set_printoptions(precision=3, suppress=True)\n",
    "\n",
    "def _connect_mongo(host, port, username, password, db):\n",
    "    \"\"\" A util for making a connection to mongo \"\"\"\n",
    "\n",
    "    if username and password:\n",
    "        mongo_uri = 'mongodb://%s:%s@%s:%s/%s' % (username, password, host, port, db)\n",
    "        conn = MongoClient(mongo_uri)\n",
    "    else:\n",
    "        conn = MongoClient(host, port)\n",
    "\n",
    "\n",
    "    return conn[db]\n",
    "\n",
    "\n",
    "def read_mongo(db=\"anystream\", collection=\"statistics\", query={}, host='adamkaliszan.pl', port=27017, username='anonymus', password='password', no_id=True):\n",
    "    \"\"\" Read from Mongo and Store into DataFrame \"\"\"\n",
    "\n",
    "    # Connect to MongoDB\n",
    "    db = _connect_mongo(host=host, port=port, username=username, password=password, db=db)\n",
    "\n",
    "    # Make a query to the specific DB and Collection\n",
    "    cursor = db[collection].find(query)\n",
    "\n",
    "    # Expand the cursor and construct the DataFrame\n",
    "    df =  pd.DataFrame(list(cursor))\n",
    "\n",
    "    # Delete the _id\n",
    "    if no_id:\n",
    "        del df['_id']\n",
    "\n",
    "    return df"
   ]
  },
  {
   "cell_type": "code",
   "execution_count": 12,
   "metadata": {},
   "outputs": [
    {
     "name": "stdout",
     "output_type": "stream",
     "text": [
      "                                     a service_stream_type service_e2d2\n",
      "                                 count               count        count\n",
      "arrival_stream_type arrival_e2d2                                       \n",
      "Gamma               1.0           5584                5584         5584\n",
      "Uniform             3.0            150                 150          150\n",
      "         a arrival_stream_type  arrival_e2d2 service_stream_type  service_e2d2\n",
      "0      8.0             Uniform           3.0             Poisson           1.0\n",
      "1      8.0             Uniform           3.0             Poisson           1.0\n",
      "2      8.0             Uniform           3.0             Poisson           1.0\n",
      "3      8.0             Uniform           3.0             Poisson           1.0\n",
      "4      8.0             Uniform           3.0             Poisson           1.0\n",
      "...    ...                 ...           ...                 ...           ...\n",
      "5729  23.5               Gamma           1.0             Poisson           1.0\n",
      "5730  23.5               Gamma           1.0             Poisson           1.0\n",
      "5731  23.5               Gamma           1.0             Poisson           1.0\n",
      "5732  23.5               Gamma           1.0             Poisson           1.0\n",
      "5733  23.5               Gamma           1.0             Poisson           1.0\n",
      "\n",
      "[5734 rows x 5 columns]\n",
      "<class 'pandas.core.frame.DataFrame'>\n"
     ]
    }
   ],
   "source": [
    "dataFrame = read_mongo()\n",
    "'''print(dataFrame)\n",
    "print(str(dataFrame['system'][0]['class']))'''\n",
    "classes = pd.DataFrame()\n",
    "classes['a'] = dataFrame.system.apply(lambda x: x['class']['a'])\n",
    "classes['arrival_stream_type'] = dataFrame.system.apply(lambda x: x['class']['arrival_stream_type'])\n",
    "classes['arrival_e2d2'] = dataFrame.system.apply(lambda x: x['class']['arrival_e2d2'])\n",
    "classes['service_stream_type'] = dataFrame.system.apply(lambda x: x['class']['service_stream_type'])\n",
    "classes['service_e2d2'] = dataFrame.system.apply(lambda x: x['class']['service_e2d2'])\n",
    "\n",
    "tmp = classes.groupby(['arrival_stream_type', 'arrival_e2d2'])\n",
    "print(tmp.aggregate(['count']))\n",
    "\n",
    "print(classes)\n",
    "print(type(classes))\n"
   ]
  },
  {
   "cell_type": "code",
   "execution_count": 5,
   "metadata": {},
   "outputs": [
    {
     "name": "stdout",
     "output_type": "stream",
     "text": [
      "                                                 system   \n",
      "0     {'class': {'a': 8.0, 'mu': 1.0, 'arrival_strea...  \\\n",
      "1     {'class': {'a': 8.0, 'mu': 1.0, 'arrival_strea...   \n",
      "2     {'class': {'a': 8.0, 'mu': 1.0, 'arrival_strea...   \n",
      "3     {'class': {'a': 8.0, 'mu': 1.0, 'arrival_strea...   \n",
      "4     {'class': {'a': 8.0, 'mu': 1.0, 'arrival_strea...   \n",
      "...                                                 ...   \n",
      "5729  {'class': {'a': 23.5, 'mu': 1.0, 'arrival_stre...   \n",
      "5730  {'class': {'a': 23.5, 'mu': 1.0, 'arrival_stre...   \n",
      "5731  {'class': {'a': 23.5, 'mu': 1.0, 'arrival_stre...   \n",
      "5732  {'class': {'a': 23.5, 'mu': 1.0, 'arrival_stre...   \n",
      "5733  {'class': {'a': 23.5, 'mu': 1.0, 'arrival_stre...   \n",
      "\n",
      "                                                   stat  \n",
      "0     {'states': [{'p': 0.07650509235411221, 'out_ne...  \n",
      "1     {'states': [{'p': 0.06553723807425986, 'out_ne...  \n",
      "2     {'states': [{'p': 0.08318307241254727, 'out_ne...  \n",
      "3     {'states': [{'p': 0.008908421008319888, 'out_n...  \n",
      "4     {'states': [{'p': 0.014330763905996595, 'out_n...  \n",
      "...                                                 ...  \n",
      "5729  {'states': [{'p': 4.2673538299024805e-10, 'out...  \n",
      "5730  {'states': [{'p': 2.62632938207546e-10, 'out_n...  \n",
      "5731  {'states': [{'p': 3.234235547385793e-10, 'out_...  \n",
      "5732  {'states': [{'p': 3.699234051958648e-10, 'out_...  \n",
      "5733  {'states': [{'p': 3.098200289564854e-10, 'out_...  \n",
      "\n",
      "[5734 rows x 2 columns]\n"
     ]
    }
   ],
   "source": [
    "print(dataFrame)"
   ]
  },
  {
   "cell_type": "code",
   "execution_count": 33,
   "metadata": {},
   "outputs": [
    {
     "ename": "AttributeError",
     "evalue": "'DataFrameGroupBy' object has no attribute 'type'",
     "output_type": "error",
     "traceback": [
      "\u001b[0;31m---------------------------------------------------------------------------\u001b[0m",
      "\u001b[0;31mAttributeError\u001b[0m                            Traceback (most recent call last)",
      "\u001b[1;32m/home/adam/github/anyStreamRust/PythonNotebook/mongo.ipynb Komórka 6\u001b[0m in \u001b[0;36m2\n\u001b[1;32m      <a href='vscode-notebook-cell:/home/adam/github/anyStreamRust/PythonNotebook/mongo.ipynb#X10sZmlsZQ%3D%3D?line=0'>1</a>\u001b[0m groupedFrame \u001b[39m=\u001b[39m dataFrame\u001b[39m.\u001b[39mgroupby([\u001b[39m'\u001b[39m\u001b[39msystem\u001b[39m\u001b[39m'\u001b[39m])\n\u001b[0;32m----> <a href='vscode-notebook-cell:/home/adam/github/anyStreamRust/PythonNotebook/mongo.ipynb#X10sZmlsZQ%3D%3D?line=1'>2</a>\u001b[0m \u001b[39mprint\u001b[39m(groupedFrame\u001b[39m.\u001b[39;49mtype)\n\u001b[1;32m      <a href='vscode-notebook-cell:/home/adam/github/anyStreamRust/PythonNotebook/mongo.ipynb#X10sZmlsZQ%3D%3D?line=2'>3</a>\u001b[0m \u001b[39mprint\u001b[39m(groupedFrame)\n",
      "File \u001b[0;32m/usr/local/lib/python3.10/dist-packages/pandas/core/groupby/groupby.py:952\u001b[0m, in \u001b[0;36mGroupBy.__getattr__\u001b[0;34m(self, attr)\u001b[0m\n\u001b[1;32m    949\u001b[0m \u001b[39mif\u001b[39;00m attr \u001b[39min\u001b[39;00m \u001b[39mself\u001b[39m\u001b[39m.\u001b[39mobj:\n\u001b[1;32m    950\u001b[0m     \u001b[39mreturn\u001b[39;00m \u001b[39mself\u001b[39m[attr]\n\u001b[0;32m--> 952\u001b[0m \u001b[39mraise\u001b[39;00m \u001b[39mAttributeError\u001b[39;00m(\n\u001b[1;32m    953\u001b[0m     \u001b[39mf\u001b[39m\u001b[39m\"\u001b[39m\u001b[39m'\u001b[39m\u001b[39m{\u001b[39;00m\u001b[39mtype\u001b[39m(\u001b[39mself\u001b[39m)\u001b[39m.\u001b[39m\u001b[39m__name__\u001b[39m\u001b[39m}\u001b[39;00m\u001b[39m'\u001b[39m\u001b[39m object has no attribute \u001b[39m\u001b[39m'\u001b[39m\u001b[39m{\u001b[39;00mattr\u001b[39m}\u001b[39;00m\u001b[39m'\u001b[39m\u001b[39m\"\u001b[39m\n\u001b[1;32m    954\u001b[0m )\n",
      "\u001b[0;31mAttributeError\u001b[0m: 'DataFrameGroupBy' object has no attribute 'type'"
     ]
    }
   ],
   "source": [
    "groupedFrame = dataFrame.groupby(['system'])\n",
    "print(groupedFrame.type)\n",
    "print(groupedFrame)"
   ]
  },
  {
   "cell_type": "code",
   "execution_count": 42,
   "metadata": {},
   "outputs": [
    {
     "name": "stdout",
     "output_type": "stream",
     "text": [
      "                                             system_str\n",
      "0     {'class': {'a': 8.0, 'mu': 1.0, 'arrival_strea...\n",
      "1     {'class': {'a': 8.0, 'mu': 1.0, 'arrival_strea...\n",
      "2     {'class': {'a': 8.0, 'mu': 1.0, 'arrival_strea...\n",
      "3     {'class': {'a': 8.0, 'mu': 1.0, 'arrival_strea...\n",
      "4     {'class': {'a': 8.0, 'mu': 1.0, 'arrival_strea...\n",
      "...                                                 ...\n",
      "5699  {'class': {'a': 23.5, 'mu': 1.0, 'arrival_stre...\n",
      "5700  {'class': {'a': 23.5, 'mu': 1.0, 'arrival_stre...\n",
      "5701  {'class': {'a': 23.5, 'mu': 1.0, 'arrival_stre...\n",
      "5702  {'class': {'a': 23.5, 'mu': 1.0, 'arrival_stre...\n",
      "5703  {'class': {'a': 23.5, 'mu': 1.0, 'arrival_stre...\n",
      "\n",
      "[5704 rows x 1 columns]\n"
     ]
    },
    {
     "data": {
      "text/plain": [
       "\"print(asd.groupby('system')['system'].aggregate(['count']))\""
      ]
     },
     "execution_count": 42,
     "metadata": {},
     "output_type": "execute_result"
    }
   ],
   "source": [
    "asd = dataFrame[['system']].apply(lambda x: x.astype(str))\n",
    "asd = asd.rename(columns= {'system' : 'system_str'})\n",
    "print(asd);\n",
    "'''asd.add(dataFrame)'''\n",
    "'''print(asd.groupby('system')['system'].aggregate(['count']))'''\n"
   ]
  },
  {
   "cell_type": "markdown",
   "metadata": {},
   "source": [
    "## Załadowanie danych z 60 symulacji"
   ]
  },
  {
   "cell_type": "code",
   "execution_count": 4,
   "metadata": {},
   "outputs": [
    {
     "ename": "TypeError",
     "evalue": "read_csv() takes 1 positional argument but 2 were given",
     "output_type": "error",
     "traceback": [
      "\u001b[0;31m---------------------------------------------------------------------------\u001b[0m",
      "\u001b[0;31mTypeError\u001b[0m                                 Traceback (most recent call last)",
      "\u001b[1;32m/home/adam/github/anyStreamRust/PythonNotebook/mongo.ipynb Komórka 6\u001b[0m in \u001b[0;36m2\n\u001b[1;32m      <a href='vscode-notebook-cell:/home/adam/github/anyStreamRust/PythonNotebook/mongo.ipynb#W4sZmlsZQ%3D%3D?line=0'>1</a>\u001b[0m \u001b[39m#occupancyDistribution = pd.read_csv(\"./results.csv\", \"\\t\")\u001b[39;00m\n\u001b[0;32m----> <a href='vscode-notebook-cell:/home/adam/github/anyStreamRust/PythonNotebook/mongo.ipynb#W4sZmlsZQ%3D%3D?line=1'>2</a>\u001b[0m occupancyDistribution \u001b[39m=\u001b[39m pd\u001b[39m.\u001b[39;49mread_csv(\u001b[39m\"\u001b[39;49m\u001b[39m./resultsGamma_V10.csv\u001b[39;49m\u001b[39m\"\u001b[39;49m, \u001b[39m\"\u001b[39;49m\u001b[39m\\t\u001b[39;49;00m\u001b[39m\"\u001b[39;49m)\n\u001b[1;32m      <a href='vscode-notebook-cell:/home/adam/github/anyStreamRust/PythonNotebook/mongo.ipynb#W4sZmlsZQ%3D%3D?line=3'>4</a>\u001b[0m \u001b[39mprint\u001b[39m(occupancyDistribution\u001b[39m.\u001b[39mcolumns)\n\u001b[1;32m      <a href='vscode-notebook-cell:/home/adam/github/anyStreamRust/PythonNotebook/mongo.ipynb#W4sZmlsZQ%3D%3D?line=4'>5</a>\u001b[0m \u001b[39mprint\u001b[39m(occupancyDistribution)\n",
      "\u001b[0;31mTypeError\u001b[0m: read_csv() takes 1 positional argument but 2 were given"
     ]
    }
   ],
   "source": [
    "#occupancyDistribution = pd.read_csv(\"./results.csv\", \"\\t\")\n",
    "occupancyDistribution = pd.read_csv(\"./resultsGamma_V10.csv\", \"\\t\")\n",
    "\n",
    "print(occupancyDistribution.columns)\n",
    "print(occupancyDistribution)\n",
    "print(occupancyDistribution.describe())\n"
   ]
  },
  {
   "cell_type": "code",
   "execution_count": null,
   "metadata": {},
   "outputs": [],
   "source": []
  },
  {
   "cell_type": "code",
   "execution_count": null,
   "metadata": {},
   "outputs": [
    {
     "name": "stdout",
     "output_type": "stream",
     "text": [
      "inputColNames: ['a(0)_10', 'a(1)_10', 'a(2)_10', 'a(3)_10', 'a(4)_10', 'a(5)_10', 'a(6)_10', 'a(7)_10', 'a(8)_10', 'a(9)_10', 'a(10)_10', 's(0)_10', 's(1)_10', 's(2)_10', 's(3)_10', 's(4)_10', 's(5)_10', 's(6)_10', 's(7)_10', 's(8)_10', 's(9)_10', 's(10)_10']\n",
      "labelColNames: ['a(0)_1', 'a(1)_1', 'a(0)_2', 'a(1)_2', 'a(2)_2', 'a(0)_3', 'a(1)_3', 'a(2)_3', 'a(3)_3', 'a(0)_4', 'a(1)_4', 'a(2)_4', 'a(3)_4', 'a(4)_4', 'a(0)_5', 'a(1)_5', 'a(2)_5', 'a(3)_5', 'a(4)_5', 'a(5)_5', 'a(0)_6', 'a(1)_6', 'a(2)_6', 'a(3)_6', 'a(4)_6', 'a(5)_6', 'a(6)_6', 'a(0)_7', 'a(1)_7', 'a(2)_7', 'a(3)_7', 'a(4)_7', 'a(5)_7', 'a(6)_7', 'a(7)_7', 'a(0)_8', 'a(1)_8', 'a(2)_8', 'a(3)_8', 'a(4)_8', 'a(5)_8', 'a(6)_8', 'a(7)_8', 'a(8)_8', 'a(0)_9', 'a(1)_9', 'a(2)_9', 'a(3)_9', 'a(4)_9', 'a(5)_9', 'a(6)_9', 'a(7)_9', 'a(8)_9', 'a(9)_9']\n",
      "Input shape (630, 22)\n",
      "Label shape (630, 54)\n"
     ]
    },
    {
     "data": {
      "text/html": [
       "<div>\n",
       "<style scoped>\n",
       "    .dataframe tbody tr th:only-of-type {\n",
       "        vertical-align: middle;\n",
       "    }\n",
       "\n",
       "    .dataframe tbody tr th {\n",
       "        vertical-align: top;\n",
       "    }\n",
       "\n",
       "    .dataframe thead th {\n",
       "        text-align: right;\n",
       "    }\n",
       "</style>\n",
       "<table border=\"1\" class=\"dataframe\">\n",
       "  <thead>\n",
       "    <tr style=\"text-align: right;\">\n",
       "      <th></th>\n",
       "      <th>a(0)_10</th>\n",
       "      <th>a(1)_10</th>\n",
       "      <th>a(2)_10</th>\n",
       "      <th>a(3)_10</th>\n",
       "      <th>a(4)_10</th>\n",
       "      <th>a(5)_10</th>\n",
       "      <th>a(6)_10</th>\n",
       "      <th>a(7)_10</th>\n",
       "      <th>a(8)_10</th>\n",
       "      <th>a(9)_10</th>\n",
       "      <th>...</th>\n",
       "      <th>s(1)_10</th>\n",
       "      <th>s(2)_10</th>\n",
       "      <th>s(3)_10</th>\n",
       "      <th>s(4)_10</th>\n",
       "      <th>s(5)_10</th>\n",
       "      <th>s(6)_10</th>\n",
       "      <th>s(7)_10</th>\n",
       "      <th>s(8)_10</th>\n",
       "      <th>s(9)_10</th>\n",
       "      <th>s(10)_10</th>\n",
       "    </tr>\n",
       "  </thead>\n",
       "  <tbody>\n",
       "    <tr>\n",
       "      <th>0</th>\n",
       "      <td>4.997979</td>\n",
       "      <td>4.998827</td>\n",
       "      <td>4.997750</td>\n",
       "      <td>4.999627</td>\n",
       "      <td>5.000669</td>\n",
       "      <td>4.996797</td>\n",
       "      <td>4.995011</td>\n",
       "      <td>4.999054</td>\n",
       "      <td>4.999118</td>\n",
       "      <td>4.997772</td>\n",
       "      <td>...</td>\n",
       "      <td>0.999995</td>\n",
       "      <td>1.997660</td>\n",
       "      <td>3.001118</td>\n",
       "      <td>3.999315</td>\n",
       "      <td>4.998825</td>\n",
       "      <td>6.001583</td>\n",
       "      <td>7.001068</td>\n",
       "      <td>8.006833</td>\n",
       "      <td>8.993415</td>\n",
       "      <td>10.009018</td>\n",
       "    </tr>\n",
       "    <tr>\n",
       "      <th>1</th>\n",
       "      <td>5.490233</td>\n",
       "      <td>5.499823</td>\n",
       "      <td>5.506721</td>\n",
       "      <td>5.497864</td>\n",
       "      <td>5.500509</td>\n",
       "      <td>5.498470</td>\n",
       "      <td>5.498195</td>\n",
       "      <td>5.500711</td>\n",
       "      <td>5.500023</td>\n",
       "      <td>5.498466</td>\n",
       "      <td>...</td>\n",
       "      <td>1.000545</td>\n",
       "      <td>1.998775</td>\n",
       "      <td>2.998182</td>\n",
       "      <td>3.999285</td>\n",
       "      <td>4.998265</td>\n",
       "      <td>6.001042</td>\n",
       "      <td>7.002124</td>\n",
       "      <td>7.994497</td>\n",
       "      <td>9.008581</td>\n",
       "      <td>10.000951</td>\n",
       "    </tr>\n",
       "    <tr>\n",
       "      <th>2</th>\n",
       "      <td>5.985474</td>\n",
       "      <td>5.993181</td>\n",
       "      <td>5.997361</td>\n",
       "      <td>5.997668</td>\n",
       "      <td>5.998716</td>\n",
       "      <td>6.001694</td>\n",
       "      <td>5.998439</td>\n",
       "      <td>6.001486</td>\n",
       "      <td>6.001760</td>\n",
       "      <td>5.994999</td>\n",
       "      <td>...</td>\n",
       "      <td>0.999076</td>\n",
       "      <td>1.996307</td>\n",
       "      <td>3.000478</td>\n",
       "      <td>4.000061</td>\n",
       "      <td>5.001675</td>\n",
       "      <td>6.001321</td>\n",
       "      <td>7.000861</td>\n",
       "      <td>7.997693</td>\n",
       "      <td>9.000064</td>\n",
       "      <td>9.999695</td>\n",
       "    </tr>\n",
       "    <tr>\n",
       "      <th>3</th>\n",
       "      <td>6.486227</td>\n",
       "      <td>6.502338</td>\n",
       "      <td>6.502121</td>\n",
       "      <td>6.500687</td>\n",
       "      <td>6.496743</td>\n",
       "      <td>6.498294</td>\n",
       "      <td>6.501260</td>\n",
       "      <td>6.501489</td>\n",
       "      <td>6.495543</td>\n",
       "      <td>6.500004</td>\n",
       "      <td>...</td>\n",
       "      <td>0.994825</td>\n",
       "      <td>1.997501</td>\n",
       "      <td>3.000973</td>\n",
       "      <td>3.999468</td>\n",
       "      <td>4.996759</td>\n",
       "      <td>6.003747</td>\n",
       "      <td>7.005655</td>\n",
       "      <td>7.998842</td>\n",
       "      <td>9.003159</td>\n",
       "      <td>10.000935</td>\n",
       "    </tr>\n",
       "    <tr>\n",
       "      <th>4</th>\n",
       "      <td>6.981313</td>\n",
       "      <td>7.012771</td>\n",
       "      <td>7.006184</td>\n",
       "      <td>7.007293</td>\n",
       "      <td>6.993352</td>\n",
       "      <td>7.003760</td>\n",
       "      <td>6.999850</td>\n",
       "      <td>7.002643</td>\n",
       "      <td>7.001285</td>\n",
       "      <td>7.003886</td>\n",
       "      <td>...</td>\n",
       "      <td>1.004527</td>\n",
       "      <td>2.004453</td>\n",
       "      <td>3.003385</td>\n",
       "      <td>3.999322</td>\n",
       "      <td>5.001534</td>\n",
       "      <td>5.996248</td>\n",
       "      <td>6.998580</td>\n",
       "      <td>8.001925</td>\n",
       "      <td>9.000112</td>\n",
       "      <td>10.000605</td>\n",
       "    </tr>\n",
       "  </tbody>\n",
       "</table>\n",
       "<p>5 rows × 22 columns</p>\n",
       "</div>"
      ],
      "text/plain": [
       "    a(0)_10   a(1)_10   a(2)_10   a(3)_10   a(4)_10   a(5)_10   a(6)_10  \\\n",
       "0  4.997979  4.998827  4.997750  4.999627  5.000669  4.996797  4.995011   \n",
       "1  5.490233  5.499823  5.506721  5.497864  5.500509  5.498470  5.498195   \n",
       "2  5.985474  5.993181  5.997361  5.997668  5.998716  6.001694  5.998439   \n",
       "3  6.486227  6.502338  6.502121  6.500687  6.496743  6.498294  6.501260   \n",
       "4  6.981313  7.012771  7.006184  7.007293  6.993352  7.003760  6.999850   \n",
       "\n",
       "    a(7)_10   a(8)_10   a(9)_10  ...   s(1)_10   s(2)_10   s(3)_10   s(4)_10  \\\n",
       "0  4.999054  4.999118  4.997772  ...  0.999995  1.997660  3.001118  3.999315   \n",
       "1  5.500711  5.500023  5.498466  ...  1.000545  1.998775  2.998182  3.999285   \n",
       "2  6.001486  6.001760  5.994999  ...  0.999076  1.996307  3.000478  4.000061   \n",
       "3  6.501489  6.495543  6.500004  ...  0.994825  1.997501  3.000973  3.999468   \n",
       "4  7.002643  7.001285  7.003886  ...  1.004527  2.004453  3.003385  3.999322   \n",
       "\n",
       "    s(5)_10   s(6)_10   s(7)_10   s(8)_10   s(9)_10   s(10)_10  \n",
       "0  4.998825  6.001583  7.001068  8.006833  8.993415  10.009018  \n",
       "1  4.998265  6.001042  7.002124  7.994497  9.008581  10.000951  \n",
       "2  5.001675  6.001321  7.000861  7.997693  9.000064   9.999695  \n",
       "3  4.996759  6.003747  7.005655  7.998842  9.003159  10.000935  \n",
       "4  5.001534  5.996248  6.998580  8.001925  9.000112  10.000605  \n",
       "\n",
       "[5 rows x 22 columns]"
      ]
     },
     "execution_count": 23,
     "metadata": {},
     "output_type": "execute_result"
    }
   ],
   "source": [
    "V=10\n",
    "SR=10\n",
    "inputColNames  = [f\"{l}({x})_{v}\" for l in ['a', 's'] for v in range(1, V+1) if v%SR ==0 for x in range(0, v+1)]\n",
    "labelColNames = [f\"{l}({x})_{v}\" for l in ['a'] for v in range(1, V+1) if v%SR !=0 for x in range(0, v+1)]\n",
    "\n",
    "print(\"inputColNames:\", inputColNames)\n",
    "print(\"labelColNames:\", labelColNames)\n",
    "\n",
    "input = occupancyDistribution[inputColNames].copy().astype(np.float32)\n",
    "label = occupancyDistribution[labelColNames].copy().astype(np.float32)\n",
    "\n",
    "print(f\"Input shape {input.shape}\")\n",
    "print(f\"Label shape {label.shape}\")\n",
    "\n",
    "input.head()\n",
    "#plt.plot(input.to_numpy()[0:17,0:6])"
   ]
  },
  {
   "cell_type": "markdown",
   "metadata": {},
   "source": [
    "## Wykresy ##\n",
    "Intensywność napływu zgłoszeń (Oś Y) w zależności od stanu (oś X).\n",
    "Widać złą jakość symulacji"
   ]
  },
  {
   "cell_type": "code",
   "execution_count": null,
   "metadata": {},
   "outputs": [
    {
     "name": "stdout",
     "output_type": "stream",
     "text": [
      "Using matplotlib backend: TkAgg\n"
     ]
    }
   ],
   "source": [
    "%matplotlib\n",
    "LambdaColNames = [f\"a({x})_{v}\" for v in range(1, V+1) for x in range(0, v+1)]\n",
    "lambdas = occupancyDistribution[LambdaColNames].copy().astype(np.float32)\n",
    "#plt.plot(lambdas.to_numpy()[0, 0:100], [x for x in range(0, 100)])\n",
    "\n",
    "fig = plt.figure()\n",
    "rowOffset = 0\n",
    "rowSkip = 3\n",
    "for plotNo in range (1, 11):\n",
    "    ax = fig.add_subplot(2, 5, plotNo)\n",
    "    offset = 0\n",
    "    for v in range (1, 11):\n",
    "        ax.plot([x for x in range(0, v+1)], lambdas.to_numpy()[(plotNo-1) * rowSkip + rowOffset, offset:offset+v+1])\n",
    "        offset = offset + v + 1\n"
   ]
  },
  {
   "cell_type": "code",
   "execution_count": null,
   "metadata": {},
   "outputs": [],
   "source": [
    "from sklearn.model_selection import train_test_split\n",
    "input_train, input_test, label_train, label_test = train_test_split(input, label, test_size=0.33, random_state=42)"
   ]
  },
  {
   "cell_type": "markdown",
   "metadata": {},
   "source": [
    "## Tworzenie modelu"
   ]
  },
  {
   "cell_type": "code",
   "execution_count": null,
   "metadata": {},
   "outputs": [
    {
     "name": "stdout",
     "output_type": "stream",
     "text": [
      "Epoch 1/30\n",
      "14/14 [==============================] - 0s 7ms/step - loss: 82.3796 - accuracy: 0.1872\n",
      "Epoch 2/30\n",
      "14/14 [==============================] - 0s 7ms/step - loss: 9.4937 - accuracy: 0.1374\n",
      "Epoch 3/30\n",
      "14/14 [==============================] - 0s 7ms/step - loss: 3.4507 - accuracy: 0.1825\n",
      "Epoch 4/30\n",
      "14/14 [==============================] - 0s 7ms/step - loss: 1.6579 - accuracy: 0.2962\n",
      "Epoch 5/30\n",
      "14/14 [==============================] - 0s 7ms/step - loss: 1.2006 - accuracy: 0.2014\n",
      "Epoch 6/30\n",
      "14/14 [==============================] - 0s 7ms/step - loss: 0.9653 - accuracy: 0.2583\n",
      "Epoch 7/30\n",
      "14/14 [==============================] - 0s 7ms/step - loss: 0.8201 - accuracy: 0.2678\n",
      "Epoch 8/30\n",
      "14/14 [==============================] - 0s 7ms/step - loss: 0.6606 - accuracy: 0.2536\n",
      "Epoch 9/30\n",
      "14/14 [==============================] - 0s 7ms/step - loss: 0.6172 - accuracy: 0.3104\n",
      "Epoch 10/30\n",
      "14/14 [==============================] - 0s 7ms/step - loss: 0.4713 - accuracy: 0.2654\n",
      "Epoch 11/30\n",
      "14/14 [==============================] - 0s 7ms/step - loss: 0.4243 - accuracy: 0.2370\n",
      "Epoch 12/30\n",
      "14/14 [==============================] - 0s 7ms/step - loss: 0.4274 - accuracy: 0.2749\n",
      "Epoch 13/30\n",
      "14/14 [==============================] - 0s 7ms/step - loss: 0.4010 - accuracy: 0.2630\n",
      "Epoch 14/30\n",
      "14/14 [==============================] - 0s 7ms/step - loss: 0.4496 - accuracy: 0.2559\n",
      "Epoch 15/30\n",
      "14/14 [==============================] - 0s 7ms/step - loss: 0.4195 - accuracy: 0.2559\n",
      "Epoch 16/30\n",
      "14/14 [==============================] - 0s 7ms/step - loss: 0.4619 - accuracy: 0.2464\n",
      "Epoch 17/30\n",
      "14/14 [==============================] - 0s 7ms/step - loss: 0.4816 - accuracy: 0.3104\n",
      "Epoch 18/30\n",
      "14/14 [==============================] - 0s 7ms/step - loss: 0.4134 - accuracy: 0.2441\n",
      "Epoch 19/30\n",
      "14/14 [==============================] - 0s 7ms/step - loss: 0.4214 - accuracy: 0.2441\n",
      "Epoch 20/30\n",
      "14/14 [==============================] - 0s 7ms/step - loss: 0.3562 - accuracy: 0.2062\n",
      "Epoch 21/30\n",
      "14/14 [==============================] - 0s 7ms/step - loss: 0.3772 - accuracy: 0.2915\n",
      "Epoch 22/30\n",
      "14/14 [==============================] - 0s 7ms/step - loss: 0.3624 - accuracy: 0.3152\n",
      "Epoch 23/30\n",
      "14/14 [==============================] - 0s 7ms/step - loss: 0.3591 - accuracy: 0.2725\n",
      "Epoch 24/30\n",
      "14/14 [==============================] - 0s 7ms/step - loss: 0.3608 - accuracy: 0.2962\n",
      "Epoch 25/30\n",
      "14/14 [==============================] - 0s 7ms/step - loss: 0.4309 - accuracy: 0.2251\n",
      "Epoch 26/30\n",
      "14/14 [==============================] - 0s 8ms/step - loss: 0.3549 - accuracy: 0.2417\n",
      "Epoch 27/30\n",
      "14/14 [==============================] - 0s 7ms/step - loss: 0.3068 - accuracy: 0.2512\n",
      "Epoch 28/30\n",
      "14/14 [==============================] - 0s 7ms/step - loss: 0.3061 - accuracy: 0.2370\n",
      "Epoch 29/30\n",
      "14/14 [==============================] - 0s 7ms/step - loss: 0.3257 - accuracy: 0.2370\n",
      "Epoch 30/30\n",
      "14/14 [==============================] - 0s 7ms/step - loss: 0.3143 - accuracy: 0.2938\n"
     ]
    },
    {
     "data": {
      "text/plain": [
       "<tensorflow.python.keras.callbacks.History at 0x7f586142fee0>"
      ]
     },
     "execution_count": 27,
     "metadata": {},
     "output_type": "execute_result"
    }
   ],
   "source": [
    "model = tf.keras.Sequential([  \n",
    "  tf.keras.layers.Dense(22),\n",
    "  tf.keras.layers.Dense(540, activation='relu'),\n",
    "  tf.keras.layers.Dense(2160, activation='relu'),\n",
    "  tf.keras.layers.Dense(540, activation='relu'),\n",
    "  tf.keras.layers.Dense(54),\n",
    "])\n",
    "\n",
    "loss_fn = tf.keras.losses.MeanSquaredError(reduction=\"auto\", name=\"mean_squared_error\")\n",
    "model.compile(optimizer='adam',\n",
    "              loss=loss_fn,\n",
    "              metrics=['accuracy'])\n",
    "model.fit(input_train.to_numpy(), label_train.to_numpy(), epochs=30)"
   ]
  },
  {
   "cell_type": "markdown",
   "metadata": {},
   "source": [
    "## Weryfikacja"
   ]
  },
  {
   "cell_type": "code",
   "execution_count": null,
   "metadata": {},
   "outputs": [
    {
     "name": "stdout",
     "output_type": "stream",
     "text": [
      "3/3 - 0s - loss: 0.0855 - accuracy: 0.8023\n"
     ]
    },
    {
     "data": {
      "text/plain": [
       "[0.08552196621894836, 0.8023256063461304]"
      ]
     },
     "execution_count": 75,
     "metadata": {},
     "output_type": "execute_result"
    }
   ],
   "source": [
    "model.evaluate(input_test, label_test, verbose=2)"
   ]
  },
  {
   "cell_type": "code",
   "execution_count": null,
   "metadata": {},
   "outputs": [],
   "source": [
    "input_test"
   ]
  },
  {
   "cell_type": "code",
   "execution_count": null,
   "metadata": {},
   "outputs": [],
   "source": [
    "model = tf.keras.Sequential([  \n",
    "  tf.keras.layers.Reshape([11,2]),\n",
    "  tf.keras.layers.Conv1D(filters=16, kernel_size=3, padding='same', activation='relu', input_shape=(11,2)),\n",
    "  tf.keras.layers.Dense(188),\n",
    "  tf.keras.layers.Flatten(),\n",
    "\n",
    "#  tf.keras.layers.Dropout(0.02),\n",
    "#  tf.keras.layers.Dense(140),\n",
    "  tf.keras.layers.Dense(662),\n",
    "#  tf.keras.layers.Dropout(0.01),\n",
    "  tf.keras.layers.Dense(54),\n",
    "])\n",
    "\n",
    "loss_fn = tf.keras.losses.MeanSquaredError(reduction=\"auto\", name=\"mean_squared_error\")\n",
    "model.compile(optimizer='adam',\n",
    "              loss=loss_fn,\n",
    "              metrics=['accuracy'])\n",
    "model.fit(input_train.to_numpy(), label_train.to_numpy(), epochs=30)"
   ]
  }
 ],
 "metadata": {
  "kernelspec": {
   "display_name": "Python 3",
   "language": "python",
   "name": "python3"
  },
  "language_info": {
   "codemirror_mode": {
    "name": "ipython",
    "version": 3
   },
   "file_extension": ".py",
   "mimetype": "text/x-python",
   "name": "python",
   "nbconvert_exporter": "python",
   "pygments_lexer": "ipython3",
   "version": "3.10.12"
  }
 },
 "nbformat": 4,
 "nbformat_minor": 4
}
